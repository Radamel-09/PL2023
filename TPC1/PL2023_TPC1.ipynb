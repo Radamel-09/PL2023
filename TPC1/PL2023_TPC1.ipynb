{
  "cells": [
    {
      "cell_type": "markdown",
      "metadata": {
        "id": "0JpXqXdRLYK6"
      },
      "source": [
        "# TPC1: Análise de dados: doença cardíaca\n",
        "\n",
        "Descarregue o ficheiro de dados: `myheart.csv`\n",
        "Crie um programa em Python, conjunto de funções, que responda às seguintes questões:\n",
        "* Crie uma função que lê a informação do ficheiro para um modelo, previamente pensado em memória;\n",
        "* Pense num modelo para guardar uma distribuição;\n",
        "* Crie uma função que calcula a distribuição da doença por sexo;\n",
        "* Crie uma função que calcula a distribuição da doença por escalões etários. Considere os seguintes escalões: [30-34], [35-39], [40-44], ...\n",
        "* Crie uma função que calcula a distribuição da doença por níveis de colesterol. Considere um nível igual a um intervalo de 10 unidades, comece no limite inferior e crie os níveis necessários até abranger o limite superior;\n",
        "* Crie uma função que imprime na forma de uma tabela uma distribuição;\n",
        "* Especifique um programa que ao executar apresenta as tabelas correspondentes às distribuições pedidas;\n",
        "* Extra: explore o módulo matplotlib e crie gráficos para as suas distribuições."
      ]
    }
  ],
  "metadata": {
    "colab": {
      "provenance": []
    },
    "kernelspec": {
      "display_name": "Python 3",
      "name": "python3"
    },
    "language_info": {
      "name": "python"
    }
  },
  "nbformat": 4,
  "nbformat_minor": 0
}
